{
 "cells": [
  {
   "cell_type": "markdown",
   "metadata": {},
   "source": [
    "![Callysto.ca Banner](https://github.com/callysto/curriculum-notebooks/blob/master/callysto-notebook-banner-top.jpg?raw=true)"
   ]
  },
  {
   "cell_type": "markdown",
   "metadata": {},
   "source": [
    "# Title of your project\n",
    "\n",
    "[Double click this cell to edit the title. Remove this line when you are done.]"
   ]
  },
  {
   "cell_type": "markdown",
   "metadata": {},
   "source": [
    "## Description of the project\n",
    "\n",
    "Include:\n",
    "\n",
    "- What question(s) are you answering?\n",
    "\n",
    "- Add a bit of background about the question: this is your opportunity to communicate what background knowledge you assume, what problems you are setting out to solve, and why this question is of interest to you. \n",
    "\n",
    "- Add links to data sources you are using to help you answer that question. The same applies to any outside sources you are using. \n",
    "\n",
    "- If applicable, add a link to the license of the dataset you are using. Data sources typically have information around licensing. It is important to be careful with this, as not all data sets are [\"open\"](https://en.wikipedia.org/wiki/Open_data). \n",
    "\n",
    "___"
   ]
  },
  {
   "cell_type": "markdown",
   "metadata": {},
   "source": [
    "## Code\n",
    "\n",
    "Use the Jupyter notebook to import libraries, download data, clean and visualize. \n",
    "\n",
    "Remember: the goal of this project is to apply what you learned throghout the course. "
   ]
  },
  {
   "cell_type": "code",
   "execution_count": null,
   "metadata": {},
   "outputs": [],
   "source": [
    "# The first cell is added for you, and contains libraries we encountered throughout the course\n",
    "# To download data from the web\n",
    "import requests as r\n",
    "# To parse data as a pandas dataframe\n",
    "import pandas as pd\n",
    "# To visualize data - you can pick the library you feel most comfortable with and remove the rest\n",
    "import matplotlib.pyplot as plt\n",
    "import plotly.express as px\n",
    "import cufflinks as cf\n",
    "# remember to keep this line if using cufflinks - \n",
    "# Jupyter notebooks need the line below to display plots from the Callysto Hub\n",
    "cf.go_offline()"
   ]
  },
  {
   "cell_type": "code",
   "execution_count": null,
   "metadata": {},
   "outputs": [],
   "source": [
    "# Use this cell to import and read your data as cvs"
   ]
  },
  {
   "cell_type": "markdown",
   "metadata": {},
   "source": [
    "[Add a comment on the data table]"
   ]
  },
  {
   "cell_type": "code",
   "execution_count": null,
   "metadata": {},
   "outputs": [],
   "source": [
    "# Use this cell to clean your csv"
   ]
  },
  {
   "cell_type": "markdown",
   "metadata": {},
   "source": [
    "[Add a comment on the cleaned csv, and how you intent to use it to visualize the data, clearly outline columns and parameters you will visualize, and why you are choosing them.]"
   ]
  },
  {
   "cell_type": "code",
   "execution_count": null,
   "metadata": {},
   "outputs": [],
   "source": [
    "# Use this cell to visualize the data - add as many cells as you need to create the visualization that communicates\n",
    "#   your idea best. Keep the question(s) you are answering in mind at all times"
   ]
  },
  {
   "cell_type": "markdown",
   "metadata": {},
   "source": [
    "Interpret your visualization. For every visualization you create, add a few lines describing the visualization. Comment on minimum, maximum values, outliers, if there is a trend, etc. "
   ]
  },
  {
   "cell_type": "markdown",
   "metadata": {},
   "source": [
    "## Stop and think: are your visualizations accessible and clear? \n",
    "\n",
    "If not, go back to Module 4 on making your visualizations more accessible. \n",
    "\n",
    "If yes - remove this cell. "
   ]
  },
  {
   "cell_type": "markdown",
   "metadata": {},
   "source": [
    "## Conclusion\n",
    "\n",
    "[Use this cell to bring together all ideas. The purpose of this cell is to communicate to the learner how the data answers your question and how. Think of this as the punchline of your notebook. Remove this line and substitute it for your content.]"
   ]
  },
  {
   "cell_type": "markdown",
   "metadata": {},
   "source": [
    "[![Callysto.ca License](https://github.com/callysto/curriculum-notebooks/blob/master/callysto-notebook-banner-bottom.jpg?raw=true)](https://github.com/callysto/curriculum-notebooks/blob/master/LICENSE.md)"
   ]
  }
 ],
 "metadata": {
  "kernelspec": {
   "display_name": "Python 3",
   "language": "python",
   "name": "python3"
  },
  "language_info": {
   "codemirror_mode": {
    "name": "ipython",
    "version": 3
   },
   "file_extension": ".py",
   "mimetype": "text/x-python",
   "name": "python",
   "nbconvert_exporter": "python",
   "pygments_lexer": "ipython3",
   "version": "3.7.4"
  }
 },
 "nbformat": 4,
 "nbformat_minor": 2
}
